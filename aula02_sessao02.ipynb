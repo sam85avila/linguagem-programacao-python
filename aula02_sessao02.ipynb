{
  "nbformat": 4,
  "nbformat_minor": 0,
  "metadata": {
    "colab": {
      "name": "aula02_sessao02.ipynb",
      "provenance": [],
      "authorship_tag": "ABX9TyNxS3+IJIfbziNnGnGkpjIs",
      "include_colab_link": true
    },
    "kernelspec": {
      "name": "python3",
      "display_name": "Python 3"
    },
    "language_info": {
      "name": "python"
    }
  },
  "cells": [
    {
      "cell_type": "markdown",
      "metadata": {
        "id": "view-in-github",
        "colab_type": "text"
      },
      "source": [
        "<a href=\"https://colab.research.google.com/github/sam85avila/linguagem-programacao-python/blob/main/aula02_sessao02.ipynb\" target=\"_parent\"><img src=\"https://colab.research.google.com/assets/colab-badge.svg\" alt=\"Open In Colab\"/></a>"
      ]
    },
    {
      "cell_type": "markdown",
      "source": [
        "# Algoritmos de buscas"
      ],
      "metadata": {
        "id": "E4FXx69f-Fat"
      }
    },
    {
      "cell_type": "markdown",
      "source": [
        "Busca linear"
      ],
      "metadata": {
        "id": "MNoNLrmkQWlE"
      }
    },
    {
      "cell_type": "code",
      "execution_count": 2,
      "metadata": {
        "id": "fJrT_B2q9zqa"
      },
      "outputs": [],
      "source": [
        "def busca_linear(lista, valor):\n",
        "  for item in lista:\n",
        "    if item == valor: \n",
        "      return True\n",
        "  return False"
      ]
    },
    {
      "cell_type": "code",
      "source": [
        "letras = ['a', 'b', 'c', 'd', 'e']\n",
        "\n",
        "print(busca_linear(letras, 'd'))\n",
        "print(busca_linear(letras, 'x'))"
      ],
      "metadata": {
        "colab": {
          "base_uri": "https://localhost:8080/"
        },
        "id": "M5TZr6V2Q-x-",
        "outputId": "1e2928e5-56a0-4aeb-fb56-0cb836eecf48"
      },
      "execution_count": 5,
      "outputs": [
        {
          "output_type": "stream",
          "name": "stdout",
          "text": [
            "True\n",
            "False\n"
          ]
        }
      ]
    },
    {
      "cell_type": "code",
      "source": [
        "import random\n",
        "\n",
        "lista = random.sample(range(100), 40)\n",
        "\n",
        "# sorted() ordena a lista\n",
        "print(sorted(lista))\n",
        "\n",
        "busca_linear(lista, 85)"
      ],
      "metadata": {
        "colab": {
          "base_uri": "https://localhost:8080/"
        },
        "id": "3vQFGK1sRvkx",
        "outputId": "2d39d437-ce76-41e3-c5c4-826478f60a7f"
      },
      "execution_count": 19,
      "outputs": [
        {
          "output_type": "stream",
          "name": "stdout",
          "text": [
            "[1, 2, 3, 7, 9, 10, 11, 15, 16, 19, 21, 26, 30, 33, 35, 38, 40, 44, 45, 46, 48, 53, 54, 55, 57, 58, 61, 62, 71, 72, 77, 83, 84, 85, 86, 87, 88, 91, 96, 98]\n"
          ]
        },
        {
          "output_type": "execute_result",
          "data": {
            "text/plain": [
              "True"
            ]
          },
          "metadata": {},
          "execution_count": 19
        }
      ]
    },
    {
      "cell_type": "markdown",
      "source": [
        "Busca binária"
      ],
      "metadata": {
        "id": "t3empkaPY2Wl"
      }
    },
    {
      "cell_type": "code",
      "source": [
        "def busca_binaria(lista, valor):\n",
        "  minimo = 0\n",
        "  maximo = len(lista) - 1\n",
        "\n",
        "  while minimo <= maximo:\n",
        "    # encontrar 0 elemento que divide a lista\n",
        "    meio = (minimo + maximo) // 2\n",
        "    # verifica se o valor é menor ou maior que o meio\n",
        "    if valor < lista[meio]:\n",
        "      maximo = meio - 1\n",
        "    elif valor > lista[meio]:\n",
        "      minimo = meio + 1\n",
        "    else:\n",
        "      return True # aqui o valor foi encontrado\n",
        "  return False # aqui o valor não foi encontrado"
      ],
      "metadata": {
        "id": "HhbjWCUNY4-6"
      },
      "execution_count": 21,
      "outputs": []
    },
    {
      "cell_type": "code",
      "source": [
        "lista = list(range(1, 41))\n",
        "\n",
        "print(lista)\n",
        "\n",
        "print(f\"\\nExecutando busca binária de 12: \\n {busca_binaria(lista, 12)}\")\n",
        "print(f\"\\nExecutando busca binária de 41: \\n {busca_binaria(lista, 52)}\")"
      ],
      "metadata": {
        "colab": {
          "base_uri": "https://localhost:8080/"
        },
        "id": "920zxy-Fc2ax",
        "outputId": "a830613e-d3a6-4ac2-8b9d-5fc7c385a790"
      },
      "execution_count": 23,
      "outputs": [
        {
          "output_type": "stream",
          "name": "stdout",
          "text": [
            "[1, 2, 3, 4, 5, 6, 7, 8, 9, 10, 11, 12, 13, 14, 15, 16, 17, 18, 19, 20, 21, 22, 23, 24, 25, 26, 27, 28, 29, 30, 31, 32, 33, 34, 35, 36, 37, 38, 39, 40]\n",
            "\n",
            "Executando busca binária de 12: \n",
            " True\n",
            "\n",
            "Executando busca binária de 41: \n",
            " False\n"
          ]
        }
      ]
    },
    {
      "cell_type": "code",
      "source": [
        "def buscar_valor(lista, valor):\n",
        "  minimo = 0\n",
        "  maximo = len(lista) - 1\n",
        "\n",
        "  while minimo <= maximo:\n",
        "    # encontrar 0 elemento que divide a lista\n",
        "    meio = (minimo + maximo) // 2\n",
        "    # verifica se o valor é menor ou maior que o meio\n",
        "    if valor < lista[meio]:\n",
        "      maximo = meio - 1\n",
        "    elif valor > lista[meio]:\n",
        "      minimo = meio + 1\n",
        "    else:\n",
        "      return meio # aqui o valor foi encontrado\n",
        "  \n",
        "  return None # aqui o valor não foi encontrado"
      ],
      "metadata": {
        "id": "M9Gr-RkYg4kX"
      },
      "execution_count": 24,
      "outputs": []
    },
    {
      "cell_type": "code",
      "source": [
        "def testa_resultado(resultado):\n",
        "  if resultado != None:\n",
        "    print(f\"Valor encontrado na posição {resultado}\")\n",
        "  else:\n",
        "    print(\"Valor não encontrado!\")"
      ],
      "metadata": {
        "id": "LpPgVH3yiWQX"
      },
      "execution_count": 28,
      "outputs": []
    },
    {
      "cell_type": "code",
      "source": [
        "vogais = ['a', 'e', 'i', 'o', 'u']\n",
        "\n",
        "resultado1 = buscar_valor(vogais, 'o')\n",
        "resultado2 = buscar_valor(vogais, 'c')\n",
        "\n",
        "testa_resultado(resultado1)\n",
        "testa_resultado(resultado2)"
      ],
      "metadata": {
        "colab": {
          "base_uri": "https://localhost:8080/"
        },
        "id": "W-odnSkwhJml",
        "outputId": "dbde5dbf-6652-4bc9-98e1-49f96f269f1d"
      },
      "execution_count": 29,
      "outputs": [
        {
          "output_type": "stream",
          "name": "stdout",
          "text": [
            "Valor encontrado na posição 3\n",
            "Valor não encontrado!\n"
          ]
        }
      ]
    },
    {
      "cell_type": "markdown",
      "source": [
        "Foco no mercado"
      ],
      "metadata": {
        "id": "7rF1jHpXs3GO"
      }
    },
    {
      "cell_type": "code",
      "source": [
        "# Parte 1 - implementar o algoritmo de busca linear\n",
        "def busca_linear(lista, valor):\n",
        "  tamanho_lista = len(lista)\n",
        "  for i in range(tamanho_lista):\n",
        "    if valor == lista[i]:\n",
        "      return True\n",
        "  return False"
      ],
      "metadata": {
        "id": "Fom4A1jLs7HE"
      },
      "execution_count": 30,
      "outputs": []
    },
    {
      "cell_type": "code",
      "source": [
        "# Parte 2 - criar a função que faz o dedup e tratamento nos cpf\n",
        "def criar_lista_dedup(lista):\n",
        "  lista_dedup = []\n",
        "  for cpf in lista:\n",
        "    cpf = str(cpf)\n",
        "    cpf = cpf.replace(\"-\", \"\").replace(\".\", \"\")\n",
        "    if len(cpf) == 11:\n",
        "      if not busca_linear(lista_dedup, cpf):\n",
        "        lista_dedup.append(cpf)\n",
        "        \n",
        "  return lista_dedup"
      ],
      "metadata": {
        "id": "1KJmDKyZtnf1"
      },
      "execution_count": 31,
      "outputs": []
    },
    {
      "cell_type": "code",
      "source": [
        "# Parte 3 - criar uma função de teste\n",
        "def testar_funcao(lista_cpf):\n",
        "  lista_dedup = criar_lista_dedup(lista_cpf)\n",
        "  print(lista_dedup)\n",
        "\n",
        "lista_cpfs = ['111.111.111-11', '111.111.11111', '222.222.222-22', '333.333.333-33', '222222222-22', '0000444.4449', '555.555-00']\n",
        "testar_funcao(lista_cpfs)\n"
      ],
      "metadata": {
        "colab": {
          "base_uri": "https://localhost:8080/"
        },
        "id": "3RdZfIY-vBpP",
        "outputId": "8bf096b5-8336-4a5f-c1a9-9347c8a1d2dd"
      },
      "execution_count": 37,
      "outputs": [
        {
          "output_type": "stream",
          "name": "stdout",
          "text": [
            "['11111111111', '22222222222', '33333333333', '00004444449']\n"
          ]
        }
      ]
    }
  ]
}