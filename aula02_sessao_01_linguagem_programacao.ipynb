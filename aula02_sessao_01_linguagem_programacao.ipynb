{
  "nbformat": 4,
  "nbformat_minor": 0,
  "metadata": {
    "colab": {
      "name": "aula02_sessao_01_linguagem_programacao.ipynb",
      "provenance": [],
      "authorship_tag": "ABX9TyPuoDK3aIJbquGjQ5hXfbtn",
      "include_colab_link": true
    },
    "kernelspec": {
      "name": "python3",
      "display_name": "Python 3"
    },
    "language_info": {
      "name": "python"
    }
  },
  "cells": [
    {
      "cell_type": "markdown",
      "metadata": {
        "id": "view-in-github",
        "colab_type": "text"
      },
      "source": [
        "<a href=\"https://colab.research.google.com/github/sam85avila/linguagem-programacao-python/blob/main/aula02_sessao_01_linguagem_programacao.ipynb\" target=\"_parent\"><img src=\"https://colab.research.google.com/assets/colab-badge.svg\" alt=\"Open In Colab\"/></a>"
      ]
    },
    {
      "cell_type": "markdown",
      "source": [
        "# List comprehension"
      ],
      "metadata": {
        "id": "p7XxTvKtnTqS"
      }
    },
    {
      "cell_type": "code",
      "execution_count": null,
      "metadata": {
        "colab": {
          "base_uri": "https://localhost:8080/"
        },
        "id": "PKUoqWUmhLJj",
        "outputId": "29cc329b-f5c4-4fe9-8ba8-e72820642206"
      },
      "outputs": [
        {
          "output_type": "stream",
          "name": "stdout",
          "text": [
            "['PYTHON', 'JAVA', 'JAVASCRIPT', 'C', 'C#', 'C++', 'SWIFT', 'GO', 'KOTLIN']\n"
          ]
        }
      ],
      "source": [
        "linguagens = [\"Python\", \"Java\", \"JavaScript\", \"C\", \"C#\", \"C++\", \"Swift\", \"Go\", \"Kotlin\"]\n",
        "              \n",
        "linguagens = [item.upper() for item in linguagens]\n",
        "\n",
        "print(linguagens)"
      ]
    },
    {
      "cell_type": "code",
      "source": [
        "linguagens = [\"Python\", \"Java\", \"JavaScript\", \"C\", \"C#\", \"C++\", \"Swift\", \"Go\", \"Kotlin\"]\n",
        "\n",
        "linguagens_c = [item for item in linguagens if 'C' in item]\n",
        "\n",
        "print(linguagens_c)"
      ],
      "metadata": {
        "colab": {
          "base_uri": "https://localhost:8080/"
        },
        "id": "UPwHuRexnp_8",
        "outputId": "42f8b5fc-b607-498a-8b4a-d19e578363d5"
      },
      "execution_count": 1,
      "outputs": [
        {
          "output_type": "stream",
          "name": "stdout",
          "text": [
            "['C', 'C#', 'C++']\n"
          ]
        }
      ]
    },
    {
      "cell_type": "markdown",
      "source": [
        "# Função Map"
      ],
      "metadata": {
        "id": "h9apwAJCrhiV"
      }
    },
    {
      "cell_type": "code",
      "source": [
        "# a função split() cria uma lista a partir de uma string\n",
        "linguagens = '''Python Java JavaScript C C# C++ Swift Go Kotlin'''.split() \n",
        "\n",
        "linguagens2 = map(lambda item: item.upper(), linguagens)\n",
        "\n",
        "# Necessário transformar o objeto em uma lista \n",
        "# Pois a função map() retorna um objeto iterável\n",
        "linguagens2 = list(linguagens2) \n",
        "\n",
        "print(linguagens2)"
      ],
      "metadata": {
        "colab": {
          "base_uri": "https://localhost:8080/"
        },
        "id": "80G1Qr3OrSU2",
        "outputId": "d0118859-d5b2-4992-f12e-4de363acb467"
      },
      "execution_count": null,
      "outputs": [
        {
          "output_type": "stream",
          "name": "stdout",
          "text": [
            "['PYTHON', 'JAVA', 'JAVASCRIPT', 'C', 'C#', 'C++', 'SWIFT', 'GO', 'KOTLIN']\n"
          ]
        }
      ]
    },
    {
      "cell_type": "code",
      "source": [
        "numeros = [0, 1, 2, 3, 4, 5]\n",
        "\n",
        "quadrado = list(map(lambda x: x*x, numeros))\n",
        "\n",
        "print(quadrado)"
      ],
      "metadata": {
        "colab": {
          "base_uri": "https://localhost:8080/"
        },
        "id": "BTp-e6grtRpe",
        "outputId": "52f2cf7c-9bb6-4b34-d96a-edebba2ddc9c"
      },
      "execution_count": null,
      "outputs": [
        {
          "output_type": "stream",
          "name": "stdout",
          "text": [
            "[0, 1, 4, 9, 16, 25]\n"
          ]
        }
      ]
    },
    {
      "cell_type": "markdown",
      "source": [
        "# Função Filter()"
      ],
      "metadata": {
        "id": "es56inMsv4ZQ"
      }
    },
    {
      "cell_type": "code",
      "source": [
        "numeros = list(range(1, 21))\n",
        "\n",
        "num_par = list(filter(lambda x: x % 2 == 0, numeros))\n",
        "\n",
        "num_impar = list(filter(lambda x: x % 2 != 0, numeros))\n",
        "\n",
        "print(f\"Números pares: {num_par}\")\n",
        "print(f\"Números impares: {num_impar}\")\n"
      ],
      "metadata": {
        "colab": {
          "base_uri": "https://localhost:8080/"
        },
        "id": "6lh0ezfBv8wD",
        "outputId": "b6058ca1-d43f-47a4-8daa-d5f1bfcc0441"
      },
      "execution_count": null,
      "outputs": [
        {
          "output_type": "stream",
          "name": "stdout",
          "text": [
            "Números pares: [2, 4, 6, 8, 10, 12, 14, 16, 18, 20]\n",
            "Números impares: [1, 3, 5, 7, 9, 11, 13, 15, 17, 19]\n"
          ]
        }
      ]
    },
    {
      "cell_type": "markdown",
      "source": [
        "# Tuple"
      ],
      "metadata": {
        "id": "LQWU2fpwzPo3"
      }
    },
    {
      "cell_type": "code",
      "source": [
        "vogais = ('a', 'e', 'i', 'o', 'u')\n",
        "\n",
        "for item in enumerate(vogais):\n",
        "  print(item)\n",
        "\n",
        "print(\"Tuple de tuplas:\", tuple(enumerate(vogais)))\n",
        "print(\"Lista de tuplas:\", list(enumerate(vogais)))"
      ],
      "metadata": {
        "colab": {
          "base_uri": "https://localhost:8080/"
        },
        "id": "17dH7A9rzMLC",
        "outputId": "4e63e285-f5f2-4074-a3ed-6cffb9875cec"
      },
      "execution_count": null,
      "outputs": [
        {
          "output_type": "stream",
          "name": "stdout",
          "text": [
            "(0, 'a')\n",
            "(1, 'e')\n",
            "(2, 'i')\n",
            "(3, 'o')\n",
            "(4, 'u')\n",
            "Tuple de tuplas: ((0, 'a'), (1, 'e'), (2, 'i'), (3, 'o'), (4, 'u'))\n",
            "Lista de tuplas: [(0, 'a'), (1, 'e'), (2, 'i'), (3, 'o'), (4, 'u')]\n"
          ]
        }
      ]
    },
    {
      "cell_type": "markdown",
      "source": [
        "# Set"
      ],
      "metadata": {
        "id": "3TLy6l3w3WUY"
      }
    },
    {
      "cell_type": "code",
      "source": [
        "componentes_verificados = set(['caixas de som', 'cooler', 'dissipador de calor', \n",
        "                               'cpu', 'hd', 'estabilizador', 'gabinete', 'hub', \n",
        "                               'impressora', 'joystick', 'memória ram', 'microfone', \n",
        "                               'modem', 'monitor', 'mouse', 'no-break', 'placa de captura', \n",
        "                               'placa de som', 'placa de vídeo', 'placa mãe', 'scanner', \n",
        "                               'teclado', 'webcam'])\n",
        "componentes_com_defeito = set(['hd', 'monitor', 'placa de som', 'scanner'])\n",
        "\n",
        "qtd_comp_verificados = len(componentes_verificados)\n",
        "qtd_comp_defeito = len(componentes_com_defeito)\n",
        "\n",
        "componentes_ok = componentes_verificados.difference(componentes_com_defeito)\n",
        "\n",
        "componentes = []\n",
        "\n",
        "for i, item in enumerate(componentes_ok):\n",
        "  componentes.append(item)\n",
        "\n",
        "print(componentes)\n",
        "#print(qtd_comp_verificados)\n",
        "#print(qtd_comp_defeito)\n"
      ],
      "metadata": {
        "id": "L1gpW6wpzuTs"
      },
      "execution_count": null,
      "outputs": []
    },
    {
      "cell_type": "code",
      "source": [
        "impar = set([1, 3, 5, 7, 9])\n",
        "num = set(range(1,11))\n",
        "\n",
        "tudo = impar.intersection(num)\n",
        "\n",
        "print(tudo)"
      ],
      "metadata": {
        "colab": {
          "base_uri": "https://localhost:8080/"
        },
        "id": "AZxpPQHS7AIB",
        "outputId": "e373025d-fd43-4dcb-de49-2220b8f18ac6"
      },
      "execution_count": null,
      "outputs": [
        {
          "output_type": "stream",
          "name": "stdout",
          "text": [
            "{1, 3, 5, 7, 9}\n"
          ]
        }
      ]
    },
    {
      "cell_type": "markdown",
      "source": [
        "# Mapping"
      ],
      "metadata": {
        "id": "i0lb2QUvG9-p"
      }
    },
    {
      "cell_type": "code",
      "source": [
        "\n",
        "\n",
        "cadastro = {\n",
        "            'nome' : ['João', 'Ana', 'Pedro', 'Marcela'],\n",
        "            'cidade' : ['São Paulo', 'São Paulo', 'Rio de Janeiro', 'Curitiba'],\n",
        "            'idade' : [25, 33, 37, 18]\n",
        "            }\n",
        "\n",
        "print(\"len(cadastro) = \", len(cadastro))\n",
        "\n",
        "print(\"\\n cadastro.keys() = \\n\", cadastro.keys())\n",
        "print(\"\\n cadastro.values() = \\n\", cadastro.values())\n",
        "print(\"\\n cadastro.items() = \\n\", cadastro.items())\n",
        "\n",
        "print(\"\\n cadastro['nome'] = \", cadastro['nome'])\n",
        "print(\"\\n cadastro['nome'][2] = \", cadastro['nome'][2])\n",
        "print(\"\\n cadastro['idade'][2:] = \", cadastro['idade'][2:])\n",
        "\n"
      ],
      "metadata": {
        "colab": {
          "base_uri": "https://localhost:8080/"
        },
        "id": "Eo5l2xLzHDUR",
        "outputId": "bef38304-f125-4ea6-8249-a4c4b624a0a5"
      },
      "execution_count": null,
      "outputs": [
        {
          "output_type": "stream",
          "name": "stdout",
          "text": [
            "len(cadastro) =  3\n",
            "\n",
            " cadastro.keys() = \n",
            " dict_keys(['nome', 'cidade', 'idade'])\n",
            "\n",
            " cadastro.values() = \n",
            " dict_values([['João', 'Ana', 'Pedro', 'Marcela'], ['São Paulo', 'São Paulo', 'Rio de Janeiro', 'Curitiba'], [25, 33, 37, 18]])\n",
            "\n",
            " cadastro.items() = \n",
            " dict_items([('nome', ['João', 'Ana', 'Pedro', 'Marcela']), ('cidade', ['São Paulo', 'São Paulo', 'Rio de Janeiro', 'Curitiba']), ('idade', [25, 33, 37, 18])])\n",
            "\n",
            " cadastro['nome'] =  ['João', 'Ana', 'Pedro', 'Marcela']\n",
            "\n",
            " cadastro['nome'][2] =  Pedro\n",
            "\n",
            " cadastro['idade'][2:] =  [37, 18]\n"
          ]
        }
      ]
    },
    {
      "cell_type": "markdown",
      "source": [
        "Array Numpy"
      ],
      "metadata": {
        "id": "O1-pPYlaYIrU"
      }
    },
    {
      "cell_type": "code",
      "source": [
        "import numpy as np\n",
        "\n",
        "matriz_1_3 = np.array([1, 2, 3])\n",
        "matriz_2_2 = np.array([[1, 3], [5, 7]])\n",
        "matriz_3_2 = np.array([[1, 2], [3, 4], [5, 6]]) \n",
        "matriz_2_3 = np.array([[1, 2, 3], [4, 5, 6]]) \n",
        "\n",
        "print(\"\\nMatriz_1_3 \\n\", matriz_1_3)\n",
        "print(\"\\nMatriz_2_2 \\n\", matriz_2_2)\n",
        "print(\"\\nMatriz_3_2 \\n\", matriz_3_2)\n",
        "print(\"\\nMatriz_2_3 \\n\", matriz_2_3)"
      ],
      "metadata": {
        "colab": {
          "base_uri": "https://localhost:8080/"
        },
        "id": "LpCjfyzWMCxW",
        "outputId": "13fd48ff-18f8-4293-a26d-9c665912e975"
      },
      "execution_count": null,
      "outputs": [
        {
          "output_type": "stream",
          "name": "stdout",
          "text": [
            "\n",
            "Matriz_1_3 \n",
            " [1 2 3]\n",
            "\n",
            "Matriz_2_2 \n",
            " [[1 3]\n",
            " [5 7]]\n",
            "\n",
            "Matriz_3_2 \n",
            " [[1 2]\n",
            " [3 4]\n",
            " [5 6]]\n",
            "\n",
            "Matriz_2_3 \n",
            " [[1 2 3]\n",
            " [4 5 6]]\n"
          ]
        }
      ]
    },
    {
      "cell_type": "code",
      "source": [
        "m1 = np.zeros((2, 3))\n",
        "m2 = np.ones((2, 5))\n",
        "m3 = np.eye(3)\n",
        "m4 = np.random.randint(low=0, high=50, size=8).reshape(2, 4)\n",
        "\n",
        "print(m1)\n",
        "print(\"\\n\", m2)\n",
        "print(\"\\n\", m3)\n",
        "print(\"\\n\", m4)\n"
      ],
      "metadata": {
        "colab": {
          "base_uri": "https://localhost:8080/"
        },
        "id": "gRXXwL9EaWy-",
        "outputId": "1d35e393-9257-4b95-a3eb-55ae0d610c1d"
      },
      "execution_count": null,
      "outputs": [
        {
          "output_type": "stream",
          "name": "stdout",
          "text": [
            "[[0. 0. 0.]\n",
            " [0. 0. 0.]]\n",
            "\n",
            " [[1. 1. 1. 1. 1.]\n",
            " [1. 1. 1. 1. 1.]]\n",
            "\n",
            " [[1. 0. 0.]\n",
            " [0. 1. 0.]\n",
            " [0. 0. 1.]]\n",
            "\n",
            " [[29 14 42 47]\n",
            " [ 8 12 41 22]]\n"
          ]
        }
      ]
    },
    {
      "cell_type": "code",
      "source": [
        "m1 = np.zeros((2, 3))\n",
        "m2 = np.ones((2, 5))\n",
        "m3 = np.eye(3)\n",
        "m4 = np.random.randint(low=0, high=100, size=8).reshape(2, 4)\n",
        "\n",
        "print(f\"Array m4: \\n{m4}\")\n",
        "print(f\"A soma dos valores de m4: {m4.sum()}\")\n",
        "print(f\"O valor mínimo de m4: {m4.min()}\")\n",
        "print(f\"O valor máximo de m4: {m4.max()}\")\n",
        "print(f\"A média dos valores de m4: {m4.mean()}\")\n"
      ],
      "metadata": {
        "colab": {
          "base_uri": "https://localhost:8080/"
        },
        "id": "bftOCoCbb4bu",
        "outputId": "4c7e5669-f965-4baa-a701-a6b5a61282e5"
      },
      "execution_count": null,
      "outputs": [
        {
          "output_type": "stream",
          "name": "stdout",
          "text": [
            "Array m4: \n",
            "[[60 77 66 70]\n",
            " [45 19 22 99]]\n",
            "A soma dos valores de m4: 458\n",
            "O valor mínimo de m4: 19\n",
            "O valor máximo de m4: 99\n",
            "A média dos valores de m4: 57.25\n"
          ]
        }
      ]
    },
    {
      "cell_type": "markdown",
      "source": [
        "# Foco no mercado"
      ],
      "metadata": {
        "id": "Gp4hMsDcXWh5"
      }
    },
    {
      "cell_type": "code",
      "source": [
        "def extrair_lista_email(dict_1, dict_2):\n",
        "  lista_1 = list(zip(dict_1['nome'], dict_1['email'], dict_1['enviado']))\n",
        "  print(f\"Amostra da lista 1 =\\n {lista_1[0]}\")\n",
        "\n",
        "  lista_2 = list(zip(dict_2['nome'], dict_2['email'], dict_2['enviado']))\n",
        "\n",
        "  dados = lista_1 + lista_2\n",
        "  print(f\"\\nAmostra dos dados = \\n{dados[:2]}\\n\")\n",
        "\n",
        "  # pegamos o item[1] na tupla que é o email; o item[2] é status de enviado,\n",
        "  # no caso, pegamos apenas se for False, por conta da negação(not) apontada.\n",
        "  emails = [item[1] for item in dados if not item[2]]\n",
        "\n",
        "  return emails\n",
        "\n",
        "dados_1 = {\n",
        "  'nome': ['Sonia Weber', 'Daryl Lowe', 'Vernon Carroll', 'Basil Gilliam', 'Mechelle Cobb', 'Edan Booker', 'Igor Wyatt', 'Ethan Franklin', 'Reed Williamson', 'Price Singleton'],\n",
        "  'email': ['Lorem.ipsum@cursusvestibulumMauris.com', 'auctor@magnis.org', 'at@magnaUttincidunt.org', 'mauris.sagittis@sem.com', 'nec.euismod.in@mattis.co.uk', 'egestas@massaMaurisvestibulum.edu', 'semper.auctor.Mauris@Crasdolordolor.edu', 'risus.Quisque@condimentum.com', 'Donec@nislMaecenasmalesuada.net', 'Aenean.gravida@atrisus.edu'],\n",
        "  'enviado': [False, False, False, False, False, False, False, True, False, False]\n",
        "}\n",
        "\n",
        "dados_2 = {\n",
        "  'nome': ['Travis Shepherd', 'Hoyt Glass', 'Jennifer Aguirre', 'Cassady Ayers', 'Colin Myers', 'Herrod Curtis', 'Cecilia Park', 'Hop Byrd', 'Beatrice Silva', 'Alden Morales'],\n",
        "  'email': ['at@sed.org', 'ac.arcu.Nunc@auctor.edu', 'nunc.Quisque.ornare@nibhAliquam.co.uk', 'non.arcu@mauriseu.com', 'fringilla.cursus.purus@erategetipsum.ca', 'Fusce.fermentum@tellus.co.uk', 'dolor.tempus.non@ipsum.net', 'blandit.congue.In@libero.com', 'nec.tempus.mauris@Suspendisse.com', 'felis@urnaconvalliserat.org'],\n",
        "  'enviado': [False, False, False, True, True, True, False, True, True, False]\n",
        "}\n",
        "\n",
        "emails = extrair_lista_email(dados_1, dados_2)\n",
        "print(f\"Emails a serem enviados:\\n{emails}\")\n"
      ],
      "metadata": {
        "colab": {
          "base_uri": "https://localhost:8080/"
        },
        "id": "Oh9yT3qiXb5K",
        "outputId": "691aeee5-1386-4256-b900-89addde43af6"
      },
      "execution_count": 3,
      "outputs": [
        {
          "output_type": "stream",
          "name": "stdout",
          "text": [
            "Amostra da lista 1 =\n",
            " ('Sonia Weber', 'Lorem.ipsum@cursusvestibulumMauris.com', False)\n",
            "\n",
            "Amostra dos dados = \n",
            "[('Sonia Weber', 'Lorem.ipsum@cursusvestibulumMauris.com', False), ('Daryl Lowe', 'auctor@magnis.org', False)]\n",
            "\n",
            "Emails a serem enviados:\n",
            "['Lorem.ipsum@cursusvestibulumMauris.com', 'auctor@magnis.org', 'at@magnaUttincidunt.org', 'mauris.sagittis@sem.com', 'nec.euismod.in@mattis.co.uk', 'egestas@massaMaurisvestibulum.edu', 'semper.auctor.Mauris@Crasdolordolor.edu', 'Donec@nislMaecenasmalesuada.net', 'Aenean.gravida@atrisus.edu', 'at@sed.org', 'ac.arcu.Nunc@auctor.edu', 'nunc.Quisque.ornare@nibhAliquam.co.uk', 'dolor.tempus.non@ipsum.net', 'felis@urnaconvalliserat.org']\n"
          ]
        }
      ]
    }
  ]
}