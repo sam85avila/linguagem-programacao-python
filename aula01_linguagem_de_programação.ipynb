{
  "nbformat": 4,
  "nbformat_minor": 0,
  "metadata": {
    "colab": {
      "name": "aula01_linguagem_de_programação.ipynb",
      "provenance": [],
      "authorship_tag": "ABX9TyPup0cgW4MB7xoUllR0j/Gx",
      "include_colab_link": true
    },
    "kernelspec": {
      "name": "python3",
      "display_name": "Python 3"
    },
    "language_info": {
      "name": "python"
    }
  },
  "cells": [
    {
      "cell_type": "markdown",
      "metadata": {
        "id": "view-in-github",
        "colab_type": "text"
      },
      "source": [
        "<a href=\"https://colab.research.google.com/github/sam85avila/linguagem-programacao-python/blob/main/aula01_linguagem_de_programa%C3%A7%C3%A3o.ipynb\" target=\"_parent\"><img src=\"https://colab.research.google.com/assets/colab-badge.svg\" alt=\"Open In Colab\"/></a>"
      ]
    },
    {
      "cell_type": "markdown",
      "source": [
        "# Teste de funções"
      ],
      "metadata": {
        "id": "MLL3hcIMiVf5"
      }
    },
    {
      "cell_type": "code",
      "source": [
        "nome = input(\"Digite seu nome: \")\n",
        "\n",
        "def saudacao(nome):\n",
        "  return f\"Olá {nome}! Seja muito bem-vindo(a)!\"\n",
        "\n",
        "resultado = saudacao(nome)\n",
        "\n",
        "print(f\"O resultado é: {resultado}\")"
      ],
      "metadata": {
        "id": "U5G58uzfib8c"
      },
      "execution_count": null,
      "outputs": []
    },
    {
      "cell_type": "code",
      "source": [
        "def soma(a, b):\n",
        "  return a + b\n",
        "\n",
        "num1 = float(input(\"Digite o primeiro número: \"))\n",
        "num2 = float(input(\"Digite o primeiro número: \"))\n",
        "\n",
        "print(soma(num1, num2))"
      ],
      "metadata": {
        "id": "YdGBilMVkNi9"
      },
      "execution_count": null,
      "outputs": []
    },
    {
      "cell_type": "code",
      "source": [
        "media = lambda x, y: (x + y)/2\n",
        "\n",
        "nota1 = float(input(\"Digite a nota 1: \"))\n",
        "nota2 = float(input(\"Digite a nota 2: \"))\n",
        "\n",
        "media_final = media(nota1, nota2)\n",
        "\n",
        "if media_final >= 7:\n",
        "  print(f\"A média final é {media_final}. Você foi aprovado!\")\n",
        "elif 5 <= media_final <= 7:\n",
        "  print(f\"A média final é {media_final}. Você está de recuperação!\")\n",
        "else:\n",
        "  print(f\"A média final é {media_final}. Você foi reprovado!\")\n",
        "\n"
      ],
      "metadata": {
        "colab": {
          "base_uri": "https://localhost:8080/"
        },
        "id": "JdmfSl7yl_SK",
        "outputId": "93b0d4d1-8fb2-41a3-e498-e7ac788b7350"
      },
      "execution_count": null,
      "outputs": [
        {
          "output_type": "stream",
          "name": "stdout",
          "text": [
            "Digite a nota 1: 3.5\n",
            "Digite a nota 2: 4.5\n",
            "A média final é 4.0. Você foi reprovado!\n"
          ]
        }
      ]
    },
    {
      "cell_type": "markdown",
      "source": [
        "# Testes da Aula 01 - Linguagem de Programção"
      ],
      "metadata": {
        "id": "qr-gg2Ul-28c"
      }
    },
    {
      "cell_type": "code",
      "source": [
        "x = 1\n",
        "while(x != 0):\n",
        "  x = int(input(\"Digite um número:\"))\n",
        "  if x % 2 == 0:\n",
        "    print(f\"O número {x} é par\")\n",
        "  else:\n",
        "    print(f\"O número {x} é impar\")"
      ],
      "metadata": {
        "colab": {
          "base_uri": "https://localhost:8080/"
        },
        "id": "7u6WGqjJ9iEu",
        "outputId": "1c9cdef6-82c1-4bae-c329-fdf00e601075"
      },
      "execution_count": null,
      "outputs": [
        {
          "output_type": "stream",
          "name": "stdout",
          "text": [
            "Digite um número:0\n",
            "O número 0 é par\n"
          ]
        }
      ]
    },
    {
      "cell_type": "code",
      "source": [
        "nome = 'Samuel'\n",
        "\n",
        "for i in nome.upper():\n",
        "   print(i)"
      ],
      "metadata": {
        "colab": {
          "base_uri": "https://localhost:8080/"
        },
        "id": "jEUpOn5r-_x7",
        "outputId": "e5c7c28a-b3cb-4966-d7e5-7e25a3114c73"
      },
      "execution_count": null,
      "outputs": [
        {
          "output_type": "stream",
          "name": "stdout",
          "text": [
            "S\n",
            "A\n",
            "M\n",
            "U\n",
            "E\n",
            "L\n"
          ]
        }
      ]
    },
    {
      "cell_type": "code",
      "source": [
        "nome = 'Samuel'.lower()\n",
        "\n",
        "for i, c in enumerate(nome):\n",
        "  print(f\"Posição = {i} -> Valor = {c}\")"
      ],
      "metadata": {
        "colab": {
          "base_uri": "https://localhost:8080/"
        },
        "id": "TSgcejIwAFMv",
        "outputId": "3e1fb2df-53c0-44b3-f00a-8798bff845bc"
      },
      "execution_count": null,
      "outputs": [
        {
          "output_type": "stream",
          "name": "stdout",
          "text": [
            "Posição = 0 -> Valor = s\n",
            "Posição = 1 -> Valor = a\n",
            "Posição = 2 -> Valor = m\n",
            "Posição = 3 -> Valor = u\n",
            "Posição = 4 -> Valor = e\n",
            "Posição = 5 -> Valor = l\n"
          ]
        }
      ]
    },
    {
      "cell_type": "code",
      "source": [
        "for i in range(5):\n",
        "  print(i)"
      ],
      "metadata": {
        "colab": {
          "base_uri": "https://localhost:8080/"
        },
        "id": "9x1N8zlYA75J",
        "outputId": "f5181587-6eff-4986-80aa-432c900541ba"
      },
      "execution_count": null,
      "outputs": [
        {
          "output_type": "stream",
          "name": "stdout",
          "text": [
            "0\n",
            "1\n",
            "2\n",
            "3\n",
            "4\n"
          ]
        }
      ]
    },
    {
      "cell_type": "code",
      "source": [
        "for i in range(5, 11):\n",
        "  print(i)"
      ],
      "metadata": {
        "colab": {
          "base_uri": "https://localhost:8080/"
        },
        "id": "wgaSHlxKBHC6",
        "outputId": "4992f84d-f02a-4b11-d0ec-888904c70bd8"
      },
      "execution_count": null,
      "outputs": [
        {
          "output_type": "stream",
          "name": "stdout",
          "text": [
            "5\n",
            "6\n",
            "7\n",
            "8\n",
            "9\n",
            "10\n"
          ]
        }
      ]
    },
    {
      "cell_type": "code",
      "source": [
        "for i in range(2, 13, 2):\n",
        "  print(i)"
      ],
      "metadata": {
        "colab": {
          "base_uri": "https://localhost:8080/"
        },
        "id": "IAIa4DmbBSz4",
        "outputId": "41142a57-74b0-4a1b-9e01-cdd9aac34cf0"
      },
      "execution_count": null,
      "outputs": [
        {
          "output_type": "stream",
          "name": "stdout",
          "text": [
            "2\n",
            "4\n",
            "6\n",
            "8\n",
            "10\n",
            "12\n"
          ]
        }
      ]
    },
    {
      "cell_type": "code",
      "source": [
        "disciplina = \"Linguagem de Programação\"\n",
        "\n",
        "for j, i in enumerate(disciplina.lower()):\n",
        "  if i == 'a' or i == 'e' or i == 'i' or i == 'o' or i == 'u':\n",
        "    print(f\"Posição = {j} -> Valor = {i}\")\n",
        "  "
      ],
      "metadata": {
        "colab": {
          "base_uri": "https://localhost:8080/"
        },
        "id": "FXc65VMABqmv",
        "outputId": "d1b72ccd-d4d4-4fd7-dfe2-1a45089ad37c"
      },
      "execution_count": null,
      "outputs": [
        {
          "output_type": "stream",
          "name": "stdout",
          "text": [
            "Posição = 1 -> Valor = i\n",
            "Posição = 4 -> Valor = u\n",
            "Posição = 5 -> Valor = a\n",
            "Posição = 7 -> Valor = e\n",
            "Posição = 11 -> Valor = e\n",
            "Posição = 15 -> Valor = o\n",
            "Posição = 18 -> Valor = a\n",
            "Posição = 20 -> Valor = a\n",
            "Posição = 23 -> Valor = o\n"
          ]
        }
      ]
    },
    {
      "cell_type": "code",
      "source": [
        "print(\"Imprimindo números impares/pares\")\n",
        "for i in range(1, 11):\n",
        "  if i % 2 != 0:\n",
        "  #if i % 2 == 0:\n",
        "    continue\n",
        "  else:\n",
        "    print(i)"
      ],
      "metadata": {
        "colab": {
          "base_uri": "https://localhost:8080/"
        },
        "id": "bnVXH3PJDH1e",
        "outputId": "6de424d0-6acf-4fe2-e7dd-e3e0b10bcd85"
      },
      "execution_count": null,
      "outputs": [
        {
          "output_type": "stream",
          "name": "stdout",
          "text": [
            "Imprimindo números impares/pares\n",
            "2\n",
            "4\n",
            "6\n",
            "8\n",
            "10\n"
          ]
        }
      ]
    },
    {
      "cell_type": "code",
      "source": [
        "disciplina = \"Linguagem de Programação\"\n",
        "\n",
        "for i in disciplina:\n",
        "  if i == 'a': \n",
        "    break\n",
        "  else:\n",
        "    print(i)"
      ],
      "metadata": {
        "colab": {
          "base_uri": "https://localhost:8080/"
        },
        "id": "44mSxu90EeAl",
        "outputId": "7563e6f7-c84a-4005-aed0-72f3e39a1a29"
      },
      "execution_count": null,
      "outputs": [
        {
          "output_type": "stream",
          "name": "stdout",
          "text": [
            "L\n",
            "i\n",
            "n\n",
            "g\n",
            "u\n"
          ]
        }
      ]
    },
    {
      "cell_type": "code",
      "source": [
        "for i in range(100):\n",
        "  if i == 11:\n",
        "    break\n",
        "  else:\n",
        "    print(i)"
      ],
      "metadata": {
        "colab": {
          "base_uri": "https://localhost:8080/"
        },
        "id": "7T2I2ypHFAqX",
        "outputId": "70dff321-7fbe-43f4-b60b-0f6df6091436"
      },
      "execution_count": null,
      "outputs": [
        {
          "output_type": "stream",
          "name": "stdout",
          "text": [
            "0\n",
            "1\n",
            "2\n",
            "3\n",
            "4\n",
            "5\n",
            "6\n",
            "7\n",
            "8\n",
            "9\n",
            "10\n"
          ]
        }
      ]
    },
    {
      "cell_type": "code",
      "source": [
        "from random import sample\n",
        "nome = input('Digite algo: ')\n",
        "a = sample(nome,len(nome))\n",
        "print(a)"
      ],
      "metadata": {
        "id": "WfKFWg0hFTTL",
        "outputId": "e0ba3e55-4809-4594-81ab-b7ce71237b88",
        "colab": {
          "base_uri": "https://localhost:8080/"
        }
      },
      "execution_count": null,
      "outputs": [
        {
          "output_type": "stream",
          "name": "stdout",
          "text": [
            "Digite algo: samuel\n",
            "['l', 'e', 's', 'u', 'm', 'a']\n"
          ]
        }
      ]
    }
  ]
}