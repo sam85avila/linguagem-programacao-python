{
  "nbformat": 4,
  "nbformat_minor": 0,
  "metadata": {
    "colab": {
      "name": "forum_linguagem_programacao.ipynb",
      "provenance": [],
      "authorship_tag": "ABX9TyO/hetVXeRau0cbpgMELZJn",
      "include_colab_link": true
    },
    "kernelspec": {
      "name": "python3",
      "display_name": "Python 3"
    },
    "language_info": {
      "name": "python"
    }
  },
  "cells": [
    {
      "cell_type": "markdown",
      "metadata": {
        "id": "view-in-github",
        "colab_type": "text"
      },
      "source": [
        "<a href=\"https://colab.research.google.com/github/sam85avila/linguagem-programacao-python/blob/main/forum_linguagem_programacao.ipynb\" target=\"_parent\"><img src=\"https://colab.research.google.com/assets/colab-badge.svg\" alt=\"Open In Colab\"/></a>"
      ]
    },
    {
      "cell_type": "markdown",
      "source": [
        "# Tabuada"
      ],
      "metadata": {
        "id": "i8VyaN9NnxfL"
      }
    },
    {
      "cell_type": "code",
      "execution_count": null,
      "metadata": {
        "id": "IH5jqv5lA88W"
      },
      "outputs": [],
      "source": [
        "def tabuada(operacao, numero):\n",
        "  for i in range(1, 11):\n",
        "    if operacao == '+':\n",
        "      resultado = numero + i\n",
        "      print(f\"{numero} {operacao} {i} = {resultado}\")\n",
        "    elif operacao == '-':\n",
        "      resultado = numero - i\n",
        "      print(f\"{numero} {operacao} {i} = {resultado}\")\n",
        "    elif operacao == 'x':\n",
        "      resultado = numero * i\n",
        "      print(f\"{numero} {operacao} {i} = {resultado}\")\n",
        "    elif operacao == '/':\n",
        "      resultado = numero / i\n",
        "      print(f\"{numero} {operacao} {i} = {resultado}\")\n",
        "    else:\n",
        "      print(\"Operação inválida!\")\n",
        "\n",
        "print(\"Tabuada\")\n",
        "numero = int(input(\"Digite um número inteiro para a tabuada: \"))\n",
        "operacao = input(\"\"\"\n",
        "Digite a operação: \n",
        "'+' - soma;\n",
        "'-' - subtração;\n",
        "'x' - multiplicação;\n",
        "'/' - divisão;\n",
        "\"\"\")\n",
        "print(\"\")\n",
        "print(f\"Tabuada de {numero}\")\n",
        "tabuada(operacao, numero)"
      ]
    },
    {
      "cell_type": "markdown",
      "source": [
        "# String Embaralhada"
      ],
      "metadata": {
        "id": "qwDM7CHJn3vr"
      }
    },
    {
      "cell_type": "code",
      "source": [
        "from random import sample\n",
        "\n",
        "def embaralha(palavra):\n",
        "    s = sample(palavra, len(palavra))\n",
        "    x = \"\".join(s)\n",
        "    print(x.upper())\n",
        " \n",
        "nome = input(\"Digite um palavra: \")\n",
        "\n",
        "embaralha(nome)\n"
      ],
      "metadata": {
        "id": "4E29Z3lbhlol"
      },
      "execution_count": null,
      "outputs": []
    }
  ]
}